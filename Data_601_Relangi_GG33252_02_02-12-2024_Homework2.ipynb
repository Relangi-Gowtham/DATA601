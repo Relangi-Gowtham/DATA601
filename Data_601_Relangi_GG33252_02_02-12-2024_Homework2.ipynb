{
 "cells": [
  {
   "cell_type": "markdown",
   "id": "401500af",
   "metadata": {},
   "source": [
    "* First_Name: Gowtham Krishna Sai\n",
    "* Last_Name: Relangi\n",
    "* Campus_ID: GG33252\n",
    "* Week_Number: 02\n",
    "* Homework_Title: Introduction To Jupyter Notebooks"
   ]
  },
  {
   "cell_type": "markdown",
   "id": "7e2e8544",
   "metadata": {},
   "source": [
    "### Step 1"
   ]
  },
  {
   "cell_type": "code",
   "execution_count": 1,
   "id": "f7079f79",
   "metadata": {},
   "outputs": [
    {
     "name": "stdout",
     "output_type": "stream",
     "text": [
      "The code ran successfully!\n"
     ]
    }
   ],
   "source": [
    "print(\"The code ran successfully!\")"
   ]
  },
  {
   "cell_type": "code",
   "execution_count": 2,
   "id": "55f25022",
   "metadata": {},
   "outputs": [],
   "source": [
    "import warnings\n",
    "warnings.filterwarnings(\"ignore\")\n",
    "import matplotlib.pyplot as graph"
   ]
  },
  {
   "cell_type": "markdown",
   "id": "c0ebf5f3",
   "metadata": {},
   "source": [
    "### Step 2"
   ]
  },
  {
   "cell_type": "code",
   "execution_count": 3,
   "id": "66e17007",
   "metadata": {},
   "outputs": [
    {
     "name": "stdout",
     "output_type": "stream",
     "text": [
      "Greetings! I'm Gowtham Krishna Sai Relangi. Happy to pursue Data Science Course.\n"
     ]
    }
   ],
   "source": [
    "###\n",
    "# WRITE A MESSAGE BETWEEN THE SPEECH MARKS IN THE LINE BELOW, THEN HIT RUN.\n",
    "###\n",
    "print(\"Greetings! I'm Gowtham Krishna Sai Relangi. Happy to pursue Data Science Course.\")\n",
    "###\n",
    "\n",
    "# It's ok to use spaces, numbers, or letters. Your message should look red.\n",
    "# For example: print(\"this is my message\")"
   ]
  },
  {
   "cell_type": "markdown",
   "id": "b8b0a205",
   "metadata": {},
   "source": [
    "### Step 3"
   ]
  },
  {
   "cell_type": "code",
   "execution_count": 4,
   "id": "fb03f61e",
   "metadata": {},
   "outputs": [
    {
     "name": "stdout",
     "output_type": "stream",
     "text": [
      "Python is essential for Data Science.\n"
     ]
    }
   ],
   "source": [
    "###\n",
    "# WRITE A MESSAGE BETWEEN THE SPEECH MARKS IN THE LINE BELOW, THEN PRESS RUN\n",
    "###\n",
    "my_message = \"Python is essential for Data Science.\"\n",
    "###\n",
    "\n",
    "print(my_message) "
   ]
  },
  {
   "cell_type": "markdown",
   "id": "80d53627",
   "metadata": {},
   "source": [
    "### Step 4"
   ]
  },
  {
   "cell_type": "code",
   "execution_count": 5,
   "id": "1bfdbd65",
   "metadata": {},
   "outputs": [
    {
     "name": "stdout",
     "output_type": "stream",
     "text": [
      "7\n",
      "7\n"
     ]
    }
   ],
   "source": [
    "###\n",
    "# REPLACE <addNumber> BELOW WITH ANY NUMBER\n",
    "###\n",
    "my_first_number = 7\n",
    "###\n",
    "\n",
    "print(my_first_number)\n",
    "print(my_first_number)"
   ]
  },
  {
   "cell_type": "markdown",
   "id": "bce08319",
   "metadata": {},
   "source": [
    "### Step 5"
   ]
  },
  {
   "cell_type": "code",
   "execution_count": 6,
   "id": "2b2f5308",
   "metadata": {},
   "outputs": [
    {
     "data": {
      "text/plain": [
       "<BarContainer object of 3 artists>"
      ]
     },
     "execution_count": 6,
     "metadata": {},
     "output_type": "execute_result"
    },
    {
     "data": {
      "image/png": "[encoded data removed]",
      "text/plain": [
       "<Figure size 640x480 with 1 Axes>"
      ]
     },
     "metadata": {},
     "output_type": "display_data"
    }
   ],
   "source": [
    "# These are our x values\n",
    "x_values = [1, 2, 3]\n",
    "\n",
    "###\n",
    "# BELOW INSIDE THE SQUARE BRACKETS, REPLACE THE <addNumber>'S WITH EACH WITH A NUMBER\n",
    "###\n",
    "y_values = [4, 5, 6]\n",
    "###\n",
    "\n",
    "# When you've done that, run the cell\n",
    "# For example, you could change like this: y_values = [3, 1, 7]\n",
    "\n",
    "# This makes a bar graph. We give it our x and y values\n",
    "graph.bar(x_values, y_values)"
   ]
  },
  {
   "cell_type": "code",
   "execution_count": 7,
   "id": "0b97c6c6",
   "metadata": {},
   "outputs": [
    {
     "data": {
      "text/plain": [
       "<matplotlib.collections.PathCollection at 0x1805113b190>"
      ]
     },
     "execution_count": 7,
     "metadata": {},
     "output_type": "execute_result"
    },
    {
     "data": {
      "image/png": "[encoded data removed]",
      "text/plain": [
       "<Figure size 640x480 with 1 Axes>"
      ]
     },
     "metadata": {},
     "output_type": "display_data"
    }
   ],
   "source": [
    "x_values = [1, 2, 3]\n",
    "\n",
    "y_values = [4, 5, 6]\n",
    "\n",
    "\n",
    "graph.scatter(x_values, y_values)"
   ]
  },
  {
   "cell_type": "markdown",
   "id": "cc7b8877",
   "metadata": {},
   "source": [
    "### Step 6"
   ]
  },
  {
   "cell_type": "code",
   "execution_count": 8,
   "id": "e529d705",
   "metadata": {},
   "outputs": [
    {
     "name": "stdout",
     "output_type": "stream",
     "text": [
      "   weight  cocoa_percent  sugar_percent  milk_percent  customer_happiness\n",
      "0     185             65             11            24                  47\n",
      "1     247             44             34            22                  55\n",
      "2     133             33             21            47                  35\n",
      "3     145             30             38            32                  34\n",
      "4     110             22             70             7                  40\n"
     ]
    }
   ],
   "source": [
    "import pandas as pd\n",
    "\n",
    "# The next line loads information about chocolate bars and saves it in a variable called 'data'\n",
    "dataset = pd.read_csv('chocolate.txt', index_col = False, sep = '\\t')\n",
    "\n",
    "### \n",
    "# WRITE print(dataset.head()) BELOW TO PREVIEW THE DATA ---###\n",
    "###\n",
    "print(dataset.head())\n",
    "###"
   ]
  },
  {
   "cell_type": "markdown",
   "id": "bf269619",
   "metadata": {},
   "source": [
    "### Step 7"
   ]
  },
  {
   "cell_type": "code",
   "execution_count": 9,
   "id": "87ee7e40",
   "metadata": {},
   "outputs": [
    {
     "data": {
      "text/plain": [
       "<matplotlib.collections.PathCollection at 0x18053b14910>"
      ]
     },
     "execution_count": 9,
     "metadata": {},
     "output_type": "execute_result"
    },
    {
     "data": {
      "image/png": "[encoded data removed]",
      "text/plain": [
       "<Figure size 640x480 with 1 Axes>"
      ]
     },
     "metadata": {},
     "output_type": "display_data"
    }
   ],
   "source": [
    "x_values = dataset.cocoa_percent\n",
    "\n",
    "###\n",
    "# REPLACE <addYValues> BELOW WITH customer_happiness\n",
    "###\n",
    "y_values = dataset.customer_happiness\n",
    "###\n",
    "\n",
    "graph.scatter(x_values, y_values)"
   ]
  },
  {
   "cell_type": "code",
   "execution_count": null,
   "id": "25427f1e",
   "metadata": {},
   "outputs": [],
   "source": []
  }
 ],
 "metadata": {
  "kernelspec": {
   "display_name": "Python 3 (ipykernel)",
   "language": "python",
   "name": "python3"
  },
  "language_info": {
   "codemirror_mode": {
    "name": "ipython",
    "version": 3
   },
   "file_extension": ".py",
   "mimetype": "text/x-python",
   "name": "python",
   "nbconvert_exporter": "python",
   "pygments_lexer": "ipython3",
   "version": "3.11.5"
  }
 },
 "nbformat": 4,
 "nbformat_minor": 5
}
