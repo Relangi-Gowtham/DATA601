{
 "cells": [
  {
   "cell_type": "markdown",
   "id": "3bf3bdd9",
   "metadata": {},
   "source": [
    "# Name: Gowtham Krishna Sai Relangi\n",
    "# Campus ID: GG33252"
   ]
  },
  {
   "cell_type": "markdown",
   "id": "b601668f",
   "metadata": {},
   "source": [
    "# Question 1: Critical Discussions on Foundations of Data Science"
   ]
  },
  {
   "cell_type": "markdown",
   "id": "6fe9208c",
   "metadata": {},
   "source": [
    "## Tasks"
   ]
  },
  {
   "cell_type": "markdown",
   "id": "3e3c6fb2",
   "metadata": {},
   "source": [
    "### 1. Integration of Disciplines:"
   ]
  },
  {
   "cell_type": "markdown",
   "id": "d7014bc0",
   "metadata": {},
   "source": [
    "Python is preferred since it is easier to learn and has powerful libraries which can be used for analysis, visualization and machine learning. Math is used to examine and observe datasets. Linear Algebra, Calculus and Probability are used together to perform mathematical calculations on the data sets to make it compatible for analysis. Furthermore, statistics are used to identify patterns, relationships and trends in large data sets and is used to interpret results. Implementing libraries in python, carrying out mathematical and statistical calculations on the customer dataset in an organization, we can develop a recommendation system by using ML algorithms."
   ]
  },
  {
   "cell_type": "markdown",
   "id": "7ee275ce",
   "metadata": {},
   "source": [
    "### 2. Practical vs Theoretical Understanding:"
   ]
  },
  {
   "cell_type": "markdown",
   "id": "e18f166e",
   "metadata": {},
   "source": [
    "Learning a new technology, method or a skill may be required in our day-to-day work life. Gaining a new knowledge can be carried out in two ways, theoretical learning and practical learning.<br>\n",
    "Practical learning means gaining the knowledge by hands on experience. Practical learning has few advantages. One can be perfect in the task that he is assigned to by practicing the skills in action. Practical experience guarantees one has a profound knowledge in the skill that he trained on. Also, by implementing practical learning, one can learn from the mistakes. In addition, practical learning builds teamwork skills and helps the person to have a strong communication and soft skills.\n",
    "But solely depending on the practical learning will affect the foundational skills of a person and will hinder in the career development process in the long run.<br>\n",
    "Theoretical learning is deriving knowledge by means of reading, thinking, listening or watching. Theoretical learning teaches the techniques, theorems and foundation knowledge for a particular skill. By practicing this method one can be proficient in the fundamental concepts of the respective skill.\n",
    "The main drawback of theoretical learning is that we cannot find the flaws that are included with it. Also, by just having an theoretical knowledge it might be difficult to implement the project in an effective way for which practical experience comes in hand.<br>\n",
    "To conclude, Practical and theoretical learning works together. One cannot be successful in the career by depending solely on one learning method.\n"
   ]
  },
  {
   "cell_type": "markdown",
   "id": "5d6e0ff4",
   "metadata": {},
   "source": [
    "### 3. Challenges and Strategies:"
   ]
  },
  {
   "cell_type": "markdown",
   "id": "1ba07ee3",
   "metadata": {},
   "source": [
    "To begin with, becoming a data scientist requires various number of skills. Therefore, it might be difficult to acquire all the skills while starting from the scratch. Hence, we need to prioritize the core and fundamental skills that are required and learn those skills at first before moving to more advanced topics like machine learning.<br>\n",
    "Secondly, handling unorganized and irrelevant large data sets might be a tedious task. To overcome this issue, we need to learn the efficient ways to handle data. Practicing data processing to clean data, data visualization for analysis on different datasets will help to learn and understand these methods.<br>\n",
    "Thirdly, choosing the right machine learning algorithm might be a challenge. Therefore, one should have a proper understanding of the machine learning algorithms before its use.<br>\n",
    "At last, to be a successful data scientist one should be proficient in math and statistics. Lack of statistical skills might hamper the analysis of the dataset and becomes difficult to comprehend the insights from the data set. Hence one should learn statistics before analysing the data.\n"
   ]
  },
  {
   "cell_type": "markdown",
   "id": "cd1f8290",
   "metadata": {},
   "source": [
    "### 4. Ethical Considerations:"
   ]
  },
  {
   "cell_type": "markdown",
   "id": "1f092e1c",
   "metadata": {},
   "source": [
    "Strong foundation in Python, mathematics and statistics provides the methodologies and knowledge for handling ethical decision- making in data science.<br>\n",
    "By implementing and analysing algorithms with strong python skills helps data scientists to identify and reduce the biases in the dataset and model. We can design fair algorithms by utilising strong mathematical and statistical skill and create models that are produce less biased outcomes.<br>\n",
    "Python allows us to build transparent models which makes it easier to describe the decisions to the stakeholders. By using statistics and math we can create our data to be comprehensible and can create accurate models.<br>\n",
    "By using python we can manage and process data in a secured manner. Also, we can create clear and brief documentation using python, which holds the transparency while conveying the decisions with the stakeholders.\n"
   ]
  },
  {
   "cell_type": "markdown",
   "id": "8ba00b7c",
   "metadata": {},
   "source": [
    "# Question 2: Sharing GitHub profile and Repository"
   ]
  },
  {
   "cell_type": "markdown",
   "id": "423e250e",
   "metadata": {},
   "source": [
    "## Self Introduction"
   ]
  },
  {
   "cell_type": "markdown",
   "id": "9d463e82",
   "metadata": {},
   "source": [
    "Greeting! I'm Gowtham Krishna Sai Relangi. I am from India. I completed my bachelors in Computer Science Engineering from Sathyabama University. I worked as a programming analyst trainee at Cognizant where I worked on Informatica, IBM Cognos, SQL, SSIS and SSAS. I am very much intrested on the ways the data can be used to solve critical business problems. Eager to learn data science methodologies and build machine learning models for finding solutions to complex situations. My hobies include travellig, riding motorbikes. "
   ]
  },
  {
   "cell_type": "markdown",
   "id": "df9ce433",
   "metadata": {},
   "source": [
    "## Links for my GitHub profile and Data 601 repository"
   ]
  },
  {
   "cell_type": "markdown",
   "id": "703cc7cd",
   "metadata": {},
   "source": [
    "* GitHub Profile --> https://github.com/Relangi-Gowtham\n",
    "* Data 601 Repository --> https://github.com/Relangi-Gowtham/DATA601"
   ]
  },
  {
   "cell_type": "markdown",
   "id": "3cb94aff",
   "metadata": {},
   "source": [
    "# Question 3: Python Data Structure Manipulation"
   ]
  },
  {
   "cell_type": "markdown",
   "id": "575cf97f",
   "metadata": {},
   "source": [
    "## Task 1: Hypothetical Dataset Challenge"
   ]
  },
  {
   "cell_type": "markdown",
   "id": "4cc97c73",
   "metadata": {},
   "source": [
    "### 1. Dataset Creation:"
   ]
  },
  {
   "cell_type": "code",
   "execution_count": 100,
   "id": "76538c2b",
   "metadata": {},
   "outputs": [],
   "source": [
    "students = [\n",
    "    {\"name\": \"Alice\", \"id\": 1, \"grades\": [88, 92, 85]}, #Creating a students data using lists and dictionary\n",
    "    {\"name\": \"Bob\", \"id\": 2, \"grades\": [76, 90, 83]},\n",
    "    {\"name\": \"Clara\", \"id\": 3, \"grades\": [91, 85, 89]}\n",
    "]"
   ]
  },
  {
   "cell_type": "markdown",
   "id": "dca31e76",
   "metadata": {},
   "source": [
    "### 2. Data Manipulation Tasks"
   ]
  },
  {
   "cell_type": "markdown",
   "id": "a3fd525c",
   "metadata": {},
   "source": [
    "#### Calculating the average of the grades for each student"
   ]
  },
  {
   "cell_type": "code",
   "execution_count": 101,
   "id": "484b7567",
   "metadata": {},
   "outputs": [
    {
     "name": "stdout",
     "output_type": "stream",
     "text": [
      "{'name': 'Alice', 'id': 1, 'grades': [88, 92, 85], 'Average_grade': 88.33}\n",
      "{'name': 'Bob', 'id': 2, 'grades': [76, 90, 83], 'Average_grade': 83.0}\n",
      "{'name': 'Clara', 'id': 3, 'grades': [91, 85, 89], 'Average_grade': 88.33}\n"
     ]
    }
   ],
   "source": [
    "for student in students:\n",
    "    marks=student[\"grades\"] #taking all the grades of each student and storing in marks list.\n",
    "    sum_grades = sum(marks) # finding the sum of all the grades of the student\n",
    "    total_no_grades = len(marks) # calculating no of grades for each student\n",
    "    avg = sum_grades/total_no_grades # calculatiing average by total sum divided by no of grades.\n",
    "    student['Average_grade'] = round(avg,2) # round function will round up the value upto 2 decimals.\n",
    "    print(student)"
   ]
  },
  {
   "cell_type": "code",
   "execution_count": 102,
   "id": "ddcb345a",
   "metadata": {},
   "outputs": [
    {
     "data": {
      "text/plain": [
       "[{'name': 'Alice', 'id': 1, 'grades': [88, 92, 85], 'Average_grade': 88.33},\n",
       " {'name': 'Bob', 'id': 2, 'grades': [76, 90, 83], 'Average_grade': 83.0},\n",
       " {'name': 'Clara', 'id': 3, 'grades': [91, 85, 89], 'Average_grade': 88.33}]"
      ]
     },
     "execution_count": 102,
     "metadata": {},
     "output_type": "execute_result"
    }
   ],
   "source": [
    "students"
   ]
  },
  {
   "cell_type": "markdown",
   "id": "923cc8f7",
   "metadata": {},
   "source": [
    "#### Creating a list of passed students( passing grade is 70)"
   ]
  },
  {
   "cell_type": "code",
   "execution_count": 103,
   "id": "594ba950",
   "metadata": {},
   "outputs": [
    {
     "name": "stdout",
     "output_type": "stream",
     "text": [
      "{'name': 'Alice', 'id': 1, 'grades': [88, 92, 85], 'Average_grade': 88.33}\n",
      "{'name': 'Bob', 'id': 2, 'grades': [76, 90, 83], 'Average_grade': 83.0}\n",
      "{'name': 'Clara', 'id': 3, 'grades': [91, 85, 89], 'Average_grade': 88.33}\n"
     ]
    }
   ],
   "source": [
    "students_passed = [\n",
    "    student\n",
    "    for student in students\n",
    "    if student['Average_grade']>=70 # using if-condition to check if grade is more than 69\n",
    "]\n",
    "for student in students_passed:\n",
    "    print(student)"
   ]
  },
  {
   "cell_type": "code",
   "execution_count": 104,
   "id": "7286d7fc",
   "metadata": {},
   "outputs": [
    {
     "data": {
      "text/plain": [
       "[{'name': 'Alice', 'id': 1, 'grades': [88, 92, 85], 'Average_grade': 88.33},\n",
       " {'name': 'Bob', 'id': 2, 'grades': [76, 90, 83], 'Average_grade': 83.0},\n",
       " {'name': 'Clara', 'id': 3, 'grades': [91, 85, 89], 'Average_grade': 88.33}]"
      ]
     },
     "execution_count": 104,
     "metadata": {},
     "output_type": "execute_result"
    }
   ],
   "source": [
    "students_passed"
   ]
  },
  {
   "cell_type": "markdown",
   "id": "81107ce5",
   "metadata": {},
   "source": [
    "#### Creating search function to retrive student based on ID"
   ]
  },
  {
   "cell_type": "code",
   "execution_count": 105,
   "id": "ef51f01b",
   "metadata": {},
   "outputs": [
    {
     "name": "stdout",
     "output_type": "stream",
     "text": [
      "Type the student ID to search\n",
      "1\n",
      "The retrived student record is \n",
      " {'name': 'Alice', 'id': 1, 'grades': [88, 92, 85], 'Average_grade': 88.33}\n"
     ]
    }
   ],
   "source": [
    "def search_student(ID, student_lists):\n",
    "    for student in student_lists:\n",
    "        if student['id'] == ID: # Comparing ID to retrive student\n",
    "            return student\n",
    "    return None\n",
    "\n",
    "ID_to_search = int(input('Type the student ID to search\\n')) # int is used to type cast the input as input will be taken as string\n",
    "Student_record = search_student(ID_to_search, students)\n",
    "if Student_record:\n",
    "    print(f\"The retrived student record is \\n {Student_record}\") # using if-else statements to print the student record.\n",
    "else: \n",
    "    print(\"No student record is found.\")"
   ]
  },
  {
   "cell_type": "markdown",
   "id": "5eaf11e1",
   "metadata": {},
   "source": [
    "## Task 2: Public Dataset Challenge"
   ]
  },
  {
   "cell_type": "code",
   "execution_count": 106,
   "id": "aa1d2142",
   "metadata": {},
   "outputs": [],
   "source": [
    "import pandas as pd \n",
    "import numpy as np"
   ]
  },
  {
   "cell_type": "markdown",
   "id": "cbb69ebc",
   "metadata": {},
   "source": [
    "### 1. Dataset Acquisition"
   ]
  },
  {
   "cell_type": "code",
   "execution_count": 107,
   "id": "0dfc521a",
   "metadata": {},
   "outputs": [],
   "source": [
    "url = \"https://archive.ics.uci.edu/ml/machine-learning-databases/iris/iris.data\"\n",
    "column_names = ['sepal_length', 'sepal_width', 'petal_length', 'petal_width', 'class']\n",
    "iris_data = pd.read_csv(url, names=column_names)"
   ]
  },
  {
   "cell_type": "code",
   "execution_count": 108,
   "id": "d086b9f6",
   "metadata": {},
   "outputs": [
    {
     "data": {
      "text/html": [
       "<div>\n",
       "<style scoped>\n",
       "    .dataframe tbody tr th:only-of-type {\n",
       "        vertical-align: middle;\n",
       "    }\n",
       "\n",
       "    .dataframe tbody tr th {\n",
       "        vertical-align: top;\n",
       "    }\n",
       "\n",
       "    .dataframe thead th {\n",
       "        text-align: right;\n",
       "    }\n",
       "</style>\n",
       "<table border=\"1\" class=\"dataframe\">\n",
       "  <thead>\n",
       "    <tr style=\"text-align: right;\">\n",
       "      <th></th>\n",
       "      <th>sepal_length</th>\n",
       "      <th>sepal_width</th>\n",
       "      <th>petal_length</th>\n",
       "      <th>petal_width</th>\n",
       "      <th>class</th>\n",
       "    </tr>\n",
       "  </thead>\n",
       "  <tbody>\n",
       "    <tr>\n",
       "      <th>0</th>\n",
       "      <td>5.1</td>\n",
       "      <td>3.5</td>\n",
       "      <td>1.4</td>\n",
       "      <td>0.2</td>\n",
       "      <td>Iris-setosa</td>\n",
       "    </tr>\n",
       "    <tr>\n",
       "      <th>1</th>\n",
       "      <td>4.9</td>\n",
       "      <td>3.0</td>\n",
       "      <td>1.4</td>\n",
       "      <td>0.2</td>\n",
       "      <td>Iris-setosa</td>\n",
       "    </tr>\n",
       "    <tr>\n",
       "      <th>2</th>\n",
       "      <td>4.7</td>\n",
       "      <td>3.2</td>\n",
       "      <td>1.3</td>\n",
       "      <td>0.2</td>\n",
       "      <td>Iris-setosa</td>\n",
       "    </tr>\n",
       "    <tr>\n",
       "      <th>3</th>\n",
       "      <td>4.6</td>\n",
       "      <td>3.1</td>\n",
       "      <td>1.5</td>\n",
       "      <td>0.2</td>\n",
       "      <td>Iris-setosa</td>\n",
       "    </tr>\n",
       "    <tr>\n",
       "      <th>4</th>\n",
       "      <td>5.0</td>\n",
       "      <td>3.6</td>\n",
       "      <td>1.4</td>\n",
       "      <td>0.2</td>\n",
       "      <td>Iris-setosa</td>\n",
       "    </tr>\n",
       "  </tbody>\n",
       "</table>\n",
       "</div>"
      ],
      "text/plain": [
       "   sepal_length  sepal_width  petal_length  petal_width        class\n",
       "0           5.1          3.5           1.4          0.2  Iris-setosa\n",
       "1           4.9          3.0           1.4          0.2  Iris-setosa\n",
       "2           4.7          3.2           1.3          0.2  Iris-setosa\n",
       "3           4.6          3.1           1.5          0.2  Iris-setosa\n",
       "4           5.0          3.6           1.4          0.2  Iris-setosa"
      ]
     },
     "execution_count": 108,
     "metadata": {},
     "output_type": "execute_result"
    }
   ],
   "source": [
    "iris_data.head()\n"
   ]
  },
  {
   "cell_type": "code",
   "execution_count": 109,
   "id": "4b1bdb0d",
   "metadata": {},
   "outputs": [
    {
     "data": {
      "text/html": [
       "<div>\n",
       "<style scoped>\n",
       "    .dataframe tbody tr th:only-of-type {\n",
       "        vertical-align: middle;\n",
       "    }\n",
       "\n",
       "    .dataframe tbody tr th {\n",
       "        vertical-align: top;\n",
       "    }\n",
       "\n",
       "    .dataframe thead th {\n",
       "        text-align: right;\n",
       "    }\n",
       "</style>\n",
       "<table border=\"1\" class=\"dataframe\">\n",
       "  <thead>\n",
       "    <tr style=\"text-align: right;\">\n",
       "      <th></th>\n",
       "      <th>sepal_length</th>\n",
       "      <th>sepal_width</th>\n",
       "      <th>petal_length</th>\n",
       "      <th>petal_width</th>\n",
       "    </tr>\n",
       "  </thead>\n",
       "  <tbody>\n",
       "    <tr>\n",
       "      <th>count</th>\n",
       "      <td>150.000000</td>\n",
       "      <td>150.000000</td>\n",
       "      <td>150.000000</td>\n",
       "      <td>150.000000</td>\n",
       "    </tr>\n",
       "    <tr>\n",
       "      <th>mean</th>\n",
       "      <td>5.843333</td>\n",
       "      <td>3.054000</td>\n",
       "      <td>3.758667</td>\n",
       "      <td>1.198667</td>\n",
       "    </tr>\n",
       "    <tr>\n",
       "      <th>std</th>\n",
       "      <td>0.828066</td>\n",
       "      <td>0.433594</td>\n",
       "      <td>1.764420</td>\n",
       "      <td>0.763161</td>\n",
       "    </tr>\n",
       "    <tr>\n",
       "      <th>min</th>\n",
       "      <td>4.300000</td>\n",
       "      <td>2.000000</td>\n",
       "      <td>1.000000</td>\n",
       "      <td>0.100000</td>\n",
       "    </tr>\n",
       "    <tr>\n",
       "      <th>25%</th>\n",
       "      <td>5.100000</td>\n",
       "      <td>2.800000</td>\n",
       "      <td>1.600000</td>\n",
       "      <td>0.300000</td>\n",
       "    </tr>\n",
       "    <tr>\n",
       "      <th>50%</th>\n",
       "      <td>5.800000</td>\n",
       "      <td>3.000000</td>\n",
       "      <td>4.350000</td>\n",
       "      <td>1.300000</td>\n",
       "    </tr>\n",
       "    <tr>\n",
       "      <th>75%</th>\n",
       "      <td>6.400000</td>\n",
       "      <td>3.300000</td>\n",
       "      <td>5.100000</td>\n",
       "      <td>1.800000</td>\n",
       "    </tr>\n",
       "    <tr>\n",
       "      <th>max</th>\n",
       "      <td>7.900000</td>\n",
       "      <td>4.400000</td>\n",
       "      <td>6.900000</td>\n",
       "      <td>2.500000</td>\n",
       "    </tr>\n",
       "  </tbody>\n",
       "</table>\n",
       "</div>"
      ],
      "text/plain": [
       "       sepal_length  sepal_width  petal_length  petal_width\n",
       "count    150.000000   150.000000    150.000000   150.000000\n",
       "mean       5.843333     3.054000      3.758667     1.198667\n",
       "std        0.828066     0.433594      1.764420     0.763161\n",
       "min        4.300000     2.000000      1.000000     0.100000\n",
       "25%        5.100000     2.800000      1.600000     0.300000\n",
       "50%        5.800000     3.000000      4.350000     1.300000\n",
       "75%        6.400000     3.300000      5.100000     1.800000\n",
       "max        7.900000     4.400000      6.900000     2.500000"
      ]
     },
     "execution_count": 109,
     "metadata": {},
     "output_type": "execute_result"
    }
   ],
   "source": [
    "iris_data.describe()"
   ]
  },
  {
   "cell_type": "markdown",
   "id": "eff8171a",
   "metadata": {},
   "source": [
    "### 2. Data Manipulation Tasks"
   ]
  },
  {
   "cell_type": "markdown",
   "id": "6fc00962",
   "metadata": {},
   "source": [
    "#### Categorize each iris plant into 'small', 'medium', or 'large' based on sepal length"
   ]
  },
  {
   "cell_type": "code",
   "execution_count": 110,
   "id": "db18ae18",
   "metadata": {},
   "outputs": [
    {
     "name": "stdout",
     "output_type": "stream",
     "text": [
      "     sepal_length  sepal_width  petal_length  petal_width           class  \\\n",
      "0             5.1          3.5           1.4          0.2     Iris-setosa   \n",
      "1             4.9          3.0           1.4          0.2     Iris-setosa   \n",
      "2             4.7          3.2           1.3          0.2     Iris-setosa   \n",
      "3             4.6          3.1           1.5          0.2     Iris-setosa   \n",
      "4             5.0          3.6           1.4          0.2     Iris-setosa   \n",
      "..            ...          ...           ...          ...             ...   \n",
      "145           6.7          3.0           5.2          2.3  Iris-virginica   \n",
      "146           6.3          2.5           5.0          1.9  Iris-virginica   \n",
      "147           6.5          3.0           5.2          2.0  Iris-virginica   \n",
      "148           6.2          3.4           5.4          2.3  Iris-virginica   \n",
      "149           5.9          3.0           5.1          1.8  Iris-virginica   \n",
      "\n",
      "    iris_category  \n",
      "0          medium  \n",
      "1           small  \n",
      "2           small  \n",
      "3           small  \n",
      "4           small  \n",
      "..            ...  \n",
      "145         large  \n",
      "146         large  \n",
      "147         large  \n",
      "148         large  \n",
      "149        medium  \n",
      "\n",
      "[150 rows x 6 columns]\n"
     ]
    }
   ],
   "source": [
    "iris_data['iris_category'] = ''\n",
    "df1 = iris_data\n",
    "medium_threshold = 6.0\n",
    "min_threshold = 5.0\n",
    "\n",
    "\n",
    "for index,row in iris_data.iterrows(): # iterrows() in pandas is used to iterate through the data frame \n",
    "    if row['sepal_length'] <= min_threshold:\n",
    "        df1.at[index, 'iris_category'] = \"small\" # categorizing plants using the min and medium thresholds with if-else stmts.\n",
    "    elif row['sepal_length'] <= medium_threshold:\n",
    "        df1.at[index,  'iris_category'] = \"medium\"\n",
    "    else:\n",
    "        df1.at[index, 'iris_category'] = \"large\"\n",
    "print(df1)"
   ]
  },
  {
   "cell_type": "markdown",
   "id": "fde916b9",
   "metadata": {},
   "source": [
    "#### Creating a new dictionary with unique keys and value as avg of petal_widths "
   ]
  },
  {
   "cell_type": "code",
   "execution_count": 111,
   "id": "ff2ac5c4",
   "metadata": {},
   "outputs": [
    {
     "name": "stdout",
     "output_type": "stream",
     "text": [
      "{'Iris-setosa': 0.24, 'Iris-versicolor': 1.33, 'Iris-virginica': 2.03}\n"
     ]
    }
   ],
   "source": [
    "avg_petal_width = {}\n",
    "for class_type, group in df1.groupby('class'): # groupby() is used to get unique values from the column \"class\"\n",
    "    avg_petal_width[class_type] = group['petal_width'].mean().round(2) # stores unique values in class_type & access records by group variable.\n",
    "print(avg_petal_width)\n"
   ]
  },
  {
   "cell_type": "markdown",
   "id": "16c11b56",
   "metadata": {},
   "source": [
    "#### Creating list with ratios of Sepal length and Sepal width"
   ]
  },
  {
   "cell_type": "code",
   "execution_count": 112,
   "id": "94213ef0",
   "metadata": {},
   "outputs": [
    {
     "name": "stdout",
     "output_type": "stream",
     "text": [
      "[1.46, 1.63, 1.47, 1.48, 1.39, 1.38, 1.35, 1.47, 1.52, 1.58, 1.46, 1.41, 1.6, 1.43, 1.45, 1.3, 1.38, 1.46, 1.5, 1.34, 1.59, 1.38, 1.28, 1.55, 1.41, 1.67, 1.47, 1.49, 1.53, 1.47, 1.55, 1.59, 1.27, 1.31, 1.58, 1.56, 1.57, 1.58, 1.47, 1.5, 1.43, 1.96, 1.38, 1.43, 1.34, 1.6, 1.34, 1.44, 1.43, 1.52, 2.19, 2.0, 2.23, 2.39, 2.32, 2.04, 1.91, 2.04, 2.28, 1.93, 2.5, 1.97, 2.73, 2.1, 1.93, 2.16, 1.87, 2.15, 2.82, 2.24, 1.84, 2.18, 2.52, 2.18, 2.21, 2.2, 2.43, 2.23, 2.07, 2.19, 2.29, 2.29, 2.15, 2.22, 1.8, 1.76, 2.16, 2.74, 1.87, 2.2, 2.12, 2.03, 2.23, 2.17, 2.07, 1.9, 1.97, 2.14, 2.04, 2.04, 1.91, 2.15, 2.37, 2.17, 2.17, 2.53, 1.96, 2.52, 2.68, 2.0, 2.03, 2.37, 2.27, 2.28, 2.07, 2.0, 2.17, 2.03, 2.96, 2.73, 2.16, 2.0, 2.75, 2.33, 2.03, 2.25, 2.21, 2.03, 2.29, 2.4, 2.64, 2.08, 2.29, 2.25, 2.35, 2.57, 1.85, 2.06, 2.0, 2.23, 2.16, 2.23, 2.15, 2.12, 2.03, 2.23, 2.52, 2.17, 1.82, 1.97]\n"
     ]
    }
   ],
   "source": [
    "ratio_list=[]\n",
    "for index, row in df1.iterrows():\n",
    "    ratio = round(row['sepal_length']/row['sepal_width'], 2) # rounding up the ratios upto two decimals.\n",
    "    ratio_list.append(ratio)\n",
    "print(ratio_list)"
   ]
  },
  {
   "cell_type": "code",
   "execution_count": null,
   "id": "e754c316",
   "metadata": {},
   "outputs": [],
   "source": []
  },
  {
   "cell_type": "code",
   "execution_count": null,
   "id": "1c5f6bb9",
   "metadata": {},
   "outputs": [],
   "source": []
  }
 ],
 "metadata": {
  "kernelspec": {
   "display_name": "Python 3 (ipykernel)",
   "language": "python",
   "name": "python3"
  },
  "language_info": {
   "codemirror_mode": {
    "name": "ipython",
    "version": 3
   },
   "file_extension": ".py",
   "mimetype": "text/x-python",
   "name": "python",
   "nbconvert_exporter": "python",
   "pygments_lexer": "ipython3",
   "version": "3.11.5"
  }
 },
 "nbformat": 4,
 "nbformat_minor": 5
}
